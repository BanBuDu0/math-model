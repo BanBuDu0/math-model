{
 "cells": [
  {
   "cell_type": "code",
   "execution_count": 1,
   "metadata": {},
   "outputs": [],
   "source": [
    "import pandas as pd\n",
    "import matplotlib.pyplot as plt\n",
    "import numpy as np\n",
    "import math\n",
    "%matplotlib inline"
   ]
  },
  {
   "cell_type": "code",
   "execution_count": 12,
   "metadata": {},
   "outputs": [],
   "source": [
    "path = \"D:\\\\jupyter_project\\\\math-model\\\\t2\\\\data\\\\data.xlsx\"\n",
    "data = pd.read_excel(path, sheet_name=0)"
   ]
  },
  {
   "cell_type": "code",
   "execution_count": 13,
   "metadata": {},
   "outputs": [
    {
     "data": {
      "text/plain": "           名字          经度         维度\n0  浙江省卫生健康委员会  120.171890  30.264411\n1     杭州市疾控中心  120.234488  30.313231\n2     上城区疾控中心  120.187813  30.259154\n3     下城区疾控中心  120.175342  30.268258\n4     江干区疾控中心  120.198250  30.293924",
      "text/html": "<div>\n<style scoped>\n    .dataframe tbody tr th:only-of-type {\n        vertical-align: middle;\n    }\n\n    .dataframe tbody tr th {\n        vertical-align: top;\n    }\n\n    .dataframe thead th {\n        text-align: right;\n    }\n</style>\n<table border=\"1\" class=\"dataframe\">\n  <thead>\n    <tr style=\"text-align: right;\">\n      <th></th>\n      <th>名字</th>\n      <th>经度</th>\n      <th>维度</th>\n    </tr>\n  </thead>\n  <tbody>\n    <tr>\n      <td>0</td>\n      <td>浙江省卫生健康委员会</td>\n      <td>120.171890</td>\n      <td>30.264411</td>\n    </tr>\n    <tr>\n      <td>1</td>\n      <td>杭州市疾控中心</td>\n      <td>120.234488</td>\n      <td>30.313231</td>\n    </tr>\n    <tr>\n      <td>2</td>\n      <td>上城区疾控中心</td>\n      <td>120.187813</td>\n      <td>30.259154</td>\n    </tr>\n    <tr>\n      <td>3</td>\n      <td>下城区疾控中心</td>\n      <td>120.175342</td>\n      <td>30.268258</td>\n    </tr>\n    <tr>\n      <td>4</td>\n      <td>江干区疾控中心</td>\n      <td>120.198250</td>\n      <td>30.293924</td>\n    </tr>\n  </tbody>\n</table>\n</div>"
     },
     "execution_count": 13,
     "metadata": {},
     "output_type": "execute_result"
    }
   ],
   "source": [
    "data.head()"
   ]
  },
  {
   "cell_type": "code",
   "execution_count": 14,
   "metadata": {},
   "outputs": [],
   "source": [
    "node_num = data.shape[0]"
   ]
  },
  {
   "cell_type": "code",
   "execution_count": 15,
   "metadata": {},
   "outputs": [],
   "source": [
    "x = data['经度']\n",
    "y = data['维度']\n",
    "x0 = x[0]\n",
    "y0 = y[0]\n",
    "x1 = x[1:]\n",
    "y1 = y[1:]"
   ]
  },
  {
   "cell_type": "code",
   "execution_count": 17,
   "outputs": [
    {
     "data": {
      "text/plain": "120.17189"
     },
     "execution_count": 17,
     "metadata": {},
     "output_type": "execute_result"
    }
   ],
   "source": [
    "x0"
   ],
   "metadata": {
    "collapsed": false,
    "pycharm": {
     "name": "#%%\n"
    }
   }
  },
  {
   "cell_type": "code",
   "execution_count": 16,
   "metadata": {},
   "outputs": [
    {
     "data": {
      "text/plain": "<Figure size 432x288 with 1 Axes>",
      "image/png": "[encoded data removed]"
     },
     "metadata": {
      "needs_background": "light"
     },
     "output_type": "display_data"
    }
   ],
   "source": [
    "plt.scatter(x1, y1, marker='o')\n",
    "plt.scatter(x0, y0, marker='^', label=\"start point\")\n",
    "# plt.plot(xs, y2, color='red', linewidth=1.0, linestyle='--')\n",
    "# plt.plot(xs, y3, color='red', linewidth=1.0, linestyle='--')\n",
    "# plt.plot(xs, y4, color='red', linewidth=1.0, linestyle='--')\n",
    "\n",
    "plt.legend(loc='best')\n",
    "plt.show()"
   ]
  },
  {
   "cell_type": "code",
   "execution_count": 9,
   "metadata": {},
   "outputs": [],
   "source": [
    "path = \"./data/B题附件1.xlsx\"\n",
    "df = pd.read_excel(path, sheet_name=0)\n",
    "v = df.iloc[:, 1:3]\n",
    "train_v = np.array(v)"
   ]
  },
  {
   "cell_type": "code",
   "execution_count": 10,
   "metadata": {},
   "outputs": [
    {
     "data": {
      "text/plain": [
       "array([[120.70152019,  36.37422699]])"
      ]
     },
     "execution_count": 10,
     "metadata": {},
     "output_type": "execute_result"
    }
   ],
   "source": [
    "center_loc = np.array(df.iloc[0:1, 1:3])\n",
    "center_loc"
   ]
  },
  {
   "cell_type": "code",
   "execution_count": 11,
   "metadata": {},
   "outputs": [
    {
     "data": {
      "text/plain": [
       "array(['数据中心', '传感器1', '传感器2', '传感器3', '传感器4', '传感器5', '传感器6', '传感器7',\n",
       "       '传感器8', '传感器9', '传感器10', '传感器11', '传感器12', '传感器13', '传感器14',\n",
       "       '传感器15', '传感器16', '传感器17', '传感器18', '传感器19', '传感器20', '传感器21',\n",
       "       '传感器22', '传感器23', '传感器24', '传感器25', '传感器26', '传感器27', '传感器28',\n",
       "       '传感器29'], dtype=object)"
      ]
     },
     "execution_count": 11,
     "metadata": {},
     "output_type": "execute_result"
    }
   ],
   "source": [
    "np.array(df.iloc[:, 0])"
   ]
  },
  {
   "cell_type": "code",
   "execution_count": 12,
   "metadata": {},
   "outputs": [],
   "source": [
    "path = \"./data/B题附件2.xlsx\"\n",
    "df = pd.read_excel(path, sheet_name=0)"
   ]
  },
  {
   "cell_type": "code",
   "execution_count": 13,
   "metadata": {},
   "outputs": [
    {
     "data": {
      "text/plain": [
       "dtype('float64')"
      ]
     },
     "execution_count": 13,
     "metadata": {},
     "output_type": "execute_result"
    }
   ],
   "source": [
    "p = np.array(df.iloc[:, 3])\n",
    "p[0] = 0\n",
    "a = p.astype(np.float64)\n",
    "a.dtype"
   ]
  },
  {
   "cell_type": "code",
   "execution_count": 14,
   "metadata": {},
   "outputs": [],
   "source": [
    "v = np.array(df.iloc[:, 1:4])"
   ]
  },
  {
   "cell_type": "code",
   "execution_count": 15,
   "metadata": {},
   "outputs": [
    {
     "data": {
      "text/plain": [
       "array([120.70152019,  36.37422699])"
      ]
     },
     "execution_count": 15,
     "metadata": {},
     "output_type": "execute_result"
    }
   ],
   "source": [
    "center = v[0][:2].astype(np.float64)\n",
    "center"
   ]
  },
  {
   "cell_type": "code",
   "execution_count": 16,
   "metadata": {},
   "outputs": [
    {
     "data": {
      "text/plain": [
       "array([[120.69871747472, 36.3745756929757, 5.4],\n",
       "       [120.699795441332, 36.3759123905177, 7.8]], dtype=object)"
      ]
     },
     "execution_count": 16,
     "metadata": {},
     "output_type": "execute_result"
    }
   ],
   "source": [
    "node = v[1:]\n",
    "node[:][0:2]"
   ]
  },
  {
   "cell_type": "code",
   "execution_count": 17,
   "metadata": {},
   "outputs": [],
   "source": [
    "road = [0, 21, 23, 24, 28, 22, 3, 4, 5, 13, 10, 16, 27, 12, 8, 15, 9, 7, 11, 6, 14, 25, 18, 26, 19, 20, 1, 2, 17, 29]"
   ]
  },
  {
   "cell_type": "code",
   "execution_count": 18,
   "metadata": {},
   "outputs": [],
   "source": [
    "def get_distance(x1, y1, x2, y2):\n",
    "    # x,y分别表示一个经纬度坐标点\n",
    "    if x1 == x2 and y1 == y2:\n",
    "        return 0\n",
    "    R = 6371\n",
    "    theta = math.acos(math.sin(x1) * math.sin(x2) + (math.cos(x1) * math.cos(x2) * math.cos(y1 - y2)))\n",
    "    L = theta * R\n",
    "    return L"
   ]
  },
  {
   "cell_type": "code",
   "execution_count": 19,
   "metadata": {},
   "outputs": [],
   "source": [
    "l = np.array([2, 3])\n",
    "p = np.array([3, 4])\n",
    "k = []\n",
    "k.append(l)\n",
    "k.append(p)"
   ]
  },
  {
   "cell_type": "code",
   "execution_count": 20,
   "metadata": {},
   "outputs": [],
   "source": [
    "from sklearn.cluster import KMeans"
   ]
  },
  {
   "cell_type": "code",
   "execution_count": 22,
   "metadata": {
    "pycharm": {
     "name": "#%%\n"
    }
   },
   "outputs": [
    {
     "name": "stdout",
     "output_type": "stream",
     "text": [
      "(29, 2)\n"
     ]
    },
    {
     "data": {
      "text/plain": [
       "array([[120.69871747,  36.37457569],\n",
       "       [120.69979544,  36.37591239],\n",
       "       [120.70691002,  36.37579616],\n",
       "       [120.70561646,  36.37248342],\n",
       "       [120.70317307,  36.37753964],\n",
       "       [120.69289646,  36.37800457],\n",
       "       [120.69433374,  36.37521499],\n",
       "       [120.69735205,  36.37876006],\n",
       "       [120.69620222,  36.37643544],\n",
       "       [120.70116087,  36.37905063],\n",
       "       [120.69390256,  36.38021291],\n",
       "       [120.69835815,  36.38056159],\n",
       "       [120.70252629,  36.38120084],\n",
       "       [120.69145917,  36.38201441],\n",
       "       [120.69605849,  36.38247931],\n",
       "       [120.70051409,  36.38276987],\n",
       "       [120.69986731,  36.37079794],\n",
       "       [120.69289646,  36.37079794],\n",
       "       [120.69648968,  36.36824059],\n",
       "       [120.69692086,  36.37143727],\n",
       "       [120.70525714,  36.36899618],\n",
       "       [120.70885036,  36.37021674],\n",
       "       [120.70870663,  36.36731063],\n",
       "       [120.7130185 ,  36.36829872],\n",
       "       [120.68966256,  36.36661314],\n",
       "       [120.69375883,  36.36242812],\n",
       "       [120.69936425,  36.38741865],\n",
       "       [120.71294663,  36.37201847],\n",
       "       [120.70022663,  36.36428816]])"
      ]
     },
     "execution_count": 22,
     "metadata": {},
     "output_type": "execute_result"
    }
   ],
   "source": [
    "test = train_v[1:]\n",
    "print(test.shape)\n",
    "test"
   ]
  },
  {
   "cell_type": "code",
   "execution_count": 23,
   "metadata": {
    "pycharm": {
     "name": "#%%\n"
    }
   },
   "outputs": [],
   "source": [
    "def get_distance(x1, y1, x2, y2):\n",
    "    # x,y分别表示一个经纬度坐标点\n",
    "    if x1 == x2 and y1 == y2:\n",
    "        return 0\n",
    "    R = 6371\n",
    "    theta = math.acos(math.sin(x1) * math.sin(x2) + (math.cos(x1) * math.cos(x2) * math.cos(y1 - y2)))\n",
    "    L = theta * R\n",
    "    return L"
   ]
  },
  {
   "cell_type": "code",
   "execution_count": 25,
   "metadata": {
    "pycharm": {
     "name": "#%%\n"
    }
   },
   "outputs": [],
   "source": [
    "x_all = []\n",
    "for i in test:\n",
    "    x_all.append([i[0] - center[0], i[1] - center[1]])\n",
    "#     x_all.append([i[0], i[1], get_distance(i[0], i[1], center[0], center[1])])"
   ]
  },
  {
   "cell_type": "code",
   "execution_count": 26,
   "metadata": {
    "pycharm": {
     "name": "#%%\n"
    }
   },
   "outputs": [],
   "source": [
    "x_all = np.array(x_all)"
   ]
  },
  {
   "cell_type": "code",
   "execution_count": 27,
   "metadata": {},
   "outputs": [
    {
     "data": {
      "text/plain": [
       "array([[-0.00280271,  0.00034871],\n",
       "       [-0.00172475,  0.00168541],\n",
       "       [ 0.00538983,  0.00156917],\n",
       "       [ 0.00409627, -0.00174356],\n",
       "       [ 0.00165288,  0.00331266],\n",
       "       [-0.00862373,  0.00377758],\n",
       "       [-0.00718644,  0.000988  ],\n",
       "       [-0.00416814,  0.00453307],\n",
       "       [-0.00531797,  0.00220845],\n",
       "       [-0.00035932,  0.00482365],\n",
       "       [-0.00761763,  0.00598593],\n",
       "       [-0.00316204,  0.00633461],\n",
       "       [ 0.0010061 ,  0.00697385],\n",
       "       [-0.01006102,  0.00778743],\n",
       "       [-0.0054617 ,  0.00825232],\n",
       "       [-0.0010061 ,  0.00854288],\n",
       "       [-0.00165288, -0.00342904],\n",
       "       [-0.00862373, -0.00342904],\n",
       "       [-0.00503051, -0.00598639],\n",
       "       [-0.00459932, -0.00278972],\n",
       "       [ 0.00373695, -0.0052308 ],\n",
       "       [ 0.00733017, -0.00401025],\n",
       "       [ 0.00718644, -0.00691636],\n",
       "       [ 0.01149831, -0.00592827],\n",
       "       [-0.01185763, -0.00761384],\n",
       "       [-0.00776136, -0.01179887],\n",
       "       [-0.00215593,  0.01319167],\n",
       "       [ 0.01142645, -0.00220852],\n",
       "       [-0.00129356, -0.00993883]])"
      ]
     },
     "execution_count": 27,
     "metadata": {},
     "output_type": "execute_result"
    }
   ],
   "source": [
    "x_all"
   ]
  },
  {
   "cell_type": "code",
   "execution_count": 28,
   "metadata": {
    "pycharm": {
     "name": "#%%\n"
    }
   },
   "outputs": [],
   "source": [
    "x = np.array(x).reshape(-1, 1)\n",
    "y = np.array(y).reshape(-1, 1)"
   ]
  },
  {
   "cell_type": "code",
   "execution_count": 29,
   "metadata": {
    "pycharm": {
     "name": "#%%\n"
    }
   },
   "outputs": [],
   "source": [
    "kmeans = KMeans(n_clusters=4, random_state=0)"
   ]
  },
  {
   "cell_type": "code",
   "execution_count": 30,
   "metadata": {
    "pycharm": {
     "name": "#%%\n"
    }
   },
   "outputs": [
    {
     "data": {
      "text/plain": [
       "KMeans(algorithm='auto', copy_x=True, init='k-means++', max_iter=300,\n",
       "       n_clusters=4, n_init=10, n_jobs=None, precompute_distances='auto',\n",
       "       random_state=0, tol=0.0001, verbose=0)"
      ]
     },
     "execution_count": 30,
     "metadata": {},
     "output_type": "execute_result"
    }
   ],
   "source": [
    "kmeans.fit(x_all)"
   ]
  },
  {
   "cell_type": "code",
   "execution_count": 28,
   "metadata": {
    "pycharm": {
     "name": "#%%\n"
    }
   },
   "outputs": [
    {
     "data": {
      "text/plain": [
       "array([3, 3, 1, 1, 0, 3, 3, 3, 3, 0, 3, 0, 0, 3, 3, 0, 2, 2, 2, 2, 1, 1,\n",
       "       1, 1, 2, 2, 0, 1, 2])"
      ]
     },
     "execution_count": 28,
     "metadata": {},
     "output_type": "execute_result"
    }
   ],
   "source": [
    "kmeans.labels_"
   ]
  },
  {
   "cell_type": "code",
   "execution_count": 31,
   "metadata": {},
   "outputs": [
    {
     "data": {
      "text/plain": [
       "array([3, 3, 1, 1, 0, 3, 3, 3, 3, 0, 3, 0, 0, 3, 3, 0, 2, 2, 2, 2, 1, 1,\n",
       "       1, 1, 2, 2, 0, 1, 2])"
      ]
     },
     "execution_count": 31,
     "metadata": {},
     "output_type": "execute_result"
    }
   ],
   "source": [
    "kmeans.labels_"
   ]
  },
  {
   "cell_type": "code",
   "execution_count": 32,
   "metadata": {
    "pycharm": {
     "name": "#%%\n"
    }
   },
   "outputs": [],
   "source": [
    "a1 = []\n",
    "a2 = []\n",
    "a3 = []\n",
    "a4 = []\n",
    "for i in range(len(kmeans.labels_)):\n",
    "    if kmeans.labels_[i] == 0:\n",
    "        a1.append(i)\n",
    "    elif kmeans.labels_[i] == 1:\n",
    "        a2.append(i)\n",
    "    elif kmeans.labels_[i] == 2:\n",
    "        a3.append(i)\n",
    "    elif kmeans.labels_[i] == 3:\n",
    "        a4.append(i)"
   ]
  },
  {
   "cell_type": "code",
   "execution_count": 33,
   "metadata": {
    "pycharm": {
     "name": "#%%\n"
    }
   },
   "outputs": [],
   "source": [
    "aa1 = []\n",
    "aa2 = []\n",
    "aa3 = []\n",
    "aa4 = []"
   ]
  },
  {
   "cell_type": "code",
   "execution_count": 34,
   "metadata": {
    "pycharm": {
     "name": "#%%\n"
    }
   },
   "outputs": [],
   "source": [
    "for i in a1:\n",
    "    aa1.append(test[i])\n",
    "for i in a2:\n",
    "    aa2.append(test[i])\n",
    "for i in a3:\n",
    "    aa3.append(test[i])\n",
    "for i in a4:\n",
    "    aa4.append(test[i])"
   ]
  },
  {
   "cell_type": "code",
   "execution_count": 35,
   "metadata": {
    "pycharm": {
     "name": "#%%\n"
    }
   },
   "outputs": [
    {
     "name": "stdout",
     "output_type": "stream",
     "text": [
      "[4, 9, 11, 12, 15, 26], [2, 3, 20, 21, 22, 23, 27], [16, 17, 18, 19, 24, 25, 28], [0, 1, 5, 6, 7, 8, 10, 13, 14]\n"
     ]
    }
   ],
   "source": [
    "print(\"{}, {}, {}, {}\".format(a1, a2, a3,a4))"
   ]
  },
  {
   "cell_type": "code",
   "execution_count": 33,
   "metadata": {
    "pycharm": {
     "name": "#%%\n"
    }
   },
   "outputs": [],
   "source": [
    "aa1x = []\n",
    "aa1y = []\n",
    "for i in aa1:\n",
    "    aa1x.append(i[0])\n",
    "    aa1y.append(i[1])\n",
    "aa2x = []\n",
    "aa2y = []\n",
    "for i in aa2:\n",
    "    aa2x.append(i[0])\n",
    "    aa2y.append(i[1])\n",
    "aa3x = []\n",
    "aa3y = []\n",
    "for i in aa3:\n",
    "    aa3x.append(i[0])\n",
    "    aa3y.append(i[1])\n",
    "aa4x = []\n",
    "aa4y = []\n",
    "for i in aa4:\n",
    "    aa4x.append(i[0])\n",
    "    aa4y.append(i[1])"
   ]
  },
  {
   "cell_type": "code",
   "execution_count": 24,
   "metadata": {
    "pycharm": {
     "name": "#%%\n"
    }
   },
   "outputs": [
    {
     "data": {
      "text/plain": [
       "array([120.70152019,  36.37422699])"
      ]
     },
     "execution_count": 24,
     "metadata": {},
     "output_type": "execute_result"
    }
   ],
   "source": [
    "center = train_v[0]\n",
    "center"
   ]
  },
  {
   "cell_type": "code",
   "execution_count": 35,
   "metadata": {
    "pycharm": {
     "name": "#%%\n"
    }
   },
   "outputs": [
    {
     "data": {
      "image/png": "[encoded data removed]",
      "text/plain": [
       "<Figure size 432x288 with 1 Axes>"
      ]
     },
     "metadata": {
      "needs_background": "light"
     },
     "output_type": "display_data"
    }
   ],
   "source": [
    "fig, ax = plt.subplots()\n",
    "ax.plot(aa1x, aa1y, 'o')\n",
    "ax.plot(aa2x, aa2y, '.')\n",
    "ax.plot(aa3x, aa3y, 'v')\n",
    "ax.plot(aa4x, aa4y, '^')\n",
    "ax.plot(center[0], center[1], 's')\n",
    "plt.show()"
   ]
  },
  {
   "cell_type": "code",
   "execution_count": null,
   "metadata": {
    "pycharm": {
     "name": "#%%\n"
    }
   },
   "outputs": [],
   "source": []
  },
  {
   "cell_type": "code",
   "execution_count": 68,
   "metadata": {},
   "outputs": [
    {
     "data": {
      "text/plain": [
       "array([[120.69871747,  36.37457569],\n",
       "       [120.69979544,  36.37591239],\n",
       "       [120.70691002,  36.37579616],\n",
       "       [120.70561646,  36.37248342],\n",
       "       [120.70317307,  36.37753964],\n",
       "       [120.69289646,  36.37800457],\n",
       "       [120.69433374,  36.37521499],\n",
       "       [120.69735205,  36.37876006],\n",
       "       [120.69620222,  36.37643544],\n",
       "       [120.70116087,  36.37905063],\n",
       "       [120.69390256,  36.38021291],\n",
       "       [120.69835815,  36.38056159],\n",
       "       [120.70252629,  36.38120084],\n",
       "       [120.69145917,  36.38201441],\n",
       "       [120.69605849,  36.38247931],\n",
       "       [120.70051409,  36.38276987],\n",
       "       [120.69986731,  36.37079794],\n",
       "       [120.69289646,  36.37079794],\n",
       "       [120.69648968,  36.36824059],\n",
       "       [120.69692086,  36.37143727],\n",
       "       [120.70525714,  36.36899618],\n",
       "       [120.70885036,  36.37021674],\n",
       "       [120.70870663,  36.36731063],\n",
       "       [120.7130185 ,  36.36829872],\n",
       "       [120.68966256,  36.36661314],\n",
       "       [120.69375883,  36.36242812],\n",
       "       [120.69936425,  36.38741865],\n",
       "       [120.71294663,  36.37201847],\n",
       "       [120.70022663,  36.36428816]])"
      ]
     },
     "execution_count": 68,
     "metadata": {},
     "output_type": "execute_result"
    }
   ],
   "source": []
  },
  {
   "cell_type": "code",
   "execution_count": 106,
   "metadata": {},
   "outputs": [],
   "source": [
    "def get_distance(x1, y1, x2, y2):\n",
    "    # x,y分别表示一个经纬度坐标点\n",
    "    if x1 == x2 and y1 == y2:\n",
    "        return 0\n",
    "    R = 6371\n",
    "    theta = math.acos(math.sin(x1) * math.sin(x2) + (math.cos(x1) * math.cos(x2) * math.cos(y1 - y2)))\n",
    "    L = theta * R\n",
    "    return L"
   ]
  },
  {
   "cell_type": "code",
   "execution_count": 119,
   "metadata": {},
   "outputs": [],
   "source": [
    "x_all = []\n",
    "for i in test:\n",
    "    x_all.append([i[0], i[1]])\n",
    "#     x_all.append([i[0], i[1], get_distance(i[0], i[1], center[0], center[1])])"
   ]
  },
  {
   "cell_type": "code",
   "execution_count": 120,
   "metadata": {},
   "outputs": [],
   "source": [
    "x_all = np.array(x_all)"
   ]
  },
  {
   "cell_type": "code",
   "execution_count": 77,
   "metadata": {},
   "outputs": [],
   "source": [
    "x = np.array(x).reshape(-1, 1)\n",
    "y = np.array(y).reshape(-1, 1)"
   ]
  },
  {
   "cell_type": "code",
   "execution_count": 121,
   "metadata": {},
   "outputs": [],
   "source": [
    "kmeans = KMeans(n_clusters=4, random_state=0)"
   ]
  },
  {
   "cell_type": "code",
   "execution_count": 122,
   "metadata": {},
   "outputs": [
    {
     "data": {
      "text/plain": [
       "KMeans(algorithm='auto', copy_x=True, init='k-means++', max_iter=300,\n",
       "       n_clusters=4, n_init=10, n_jobs=None, precompute_distances='auto',\n",
       "       random_state=0, tol=0.0001, verbose=0)"
      ]
     },
     "execution_count": 122,
     "metadata": {},
     "output_type": "execute_result"
    }
   ],
   "source": [
    "kmeans.fit(x_all)"
   ]
  },
  {
   "cell_type": "code",
   "execution_count": 123,
   "metadata": {},
   "outputs": [
    {
     "data": {
      "text/plain": [
       "array([2, 3, 1, 1, 3, 2, 2, 2, 2, 3, 2, 3, 3, 2, 2, 3, 0, 0, 0, 0, 1, 1,\n",
       "       1, 1, 0, 0, 3, 1, 0], dtype=int32)"
      ]
     },
     "execution_count": 123,
     "metadata": {},
     "output_type": "execute_result"
    }
   ],
   "source": [
    "kmeans.labels_"
   ]
  },
  {
   "cell_type": "code",
   "execution_count": 124,
   "metadata": {},
   "outputs": [],
   "source": [
    "a1 = []\n",
    "a2 = []\n",
    "a3 = []\n",
    "a4 = []\n",
    "for i in range(len(kmeans.labels_)):\n",
    "    if kmeans.labels_[i] == 0:\n",
    "        a1.append(i)\n",
    "    elif kmeans.labels_[i] == 1:\n",
    "        a2.append(i)\n",
    "    elif kmeans.labels_[i] == 2:\n",
    "        a3.append(i)\n",
    "    elif kmeans.labels_[i] == 3:\n",
    "        a4.append(i)"
   ]
  },
  {
   "cell_type": "code",
   "execution_count": 125,
   "metadata": {},
   "outputs": [],
   "source": [
    "aa1 = []\n",
    "aa2 = []\n",
    "aa3 = []\n",
    "aa4 = []"
   ]
  },
  {
   "cell_type": "code",
   "execution_count": 126,
   "metadata": {},
   "outputs": [],
   "source": [
    "for i in a1:\n",
    "    aa1.append(test[i])\n",
    "for i in a2:\n",
    "    aa2.append(test[i])\n",
    "for i in a3:\n",
    "    aa3.append(test[i])\n",
    "for i in a4:\n",
    "    aa4.append(test[i])"
   ]
  },
  {
   "cell_type": "code",
   "execution_count": 131,
   "metadata": {},
   "outputs": [
    {
     "name": "stdout",
     "output_type": "stream",
     "text": [
      "[16, 17, 18, 19, 24, 25, 28], [2, 3, 20, 21, 22, 23, 27], [0, 5, 6, 7, 8, 10, 13, 14], [1, 4, 9, 11, 12, 15, 26]\n"
     ]
    }
   ],
   "source": [
    "print(\"{}, {}, {}, {}\".format(a1, a2, a3,a4))"
   ]
  },
  {
   "cell_type": "code",
   "execution_count": 127,
   "metadata": {},
   "outputs": [],
   "source": [
    "aa1x = []\n",
    "aa1y = []\n",
    "for i in aa1:\n",
    "    aa1x.append(i[0])\n",
    "    aa1y.append(i[1])\n",
    "aa2x = []\n",
    "aa2y = []\n",
    "for i in aa2:\n",
    "    aa2x.append(i[0])\n",
    "    aa2y.append(i[1])\n",
    "aa3x = []\n",
    "aa3y = []\n",
    "for i in aa3:\n",
    "    aa3x.append(i[0])\n",
    "    aa3y.append(i[1])\n",
    "aa4x = []\n",
    "aa4y = []\n",
    "for i in aa4:\n",
    "    aa4x.append(i[0])\n",
    "    aa4y.append(i[1])"
   ]
  },
  {
   "cell_type": "code",
   "execution_count": 128,
   "metadata": {},
   "outputs": [
    {
     "data": {
      "text/plain": [
       "array([120.70152019,  36.37422699])"
      ]
     },
     "execution_count": 128,
     "metadata": {},
     "output_type": "execute_result"
    }
   ],
   "source": [
    "center = train_v[0]\n",
    "center"
   ]
  },
  {
   "cell_type": "code",
   "execution_count": 129,
   "metadata": {},
   "outputs": [
    {
     "data": {
      "image/png": "[encoded data removed]",
      "text/plain": [
       "<Figure size 432x288 with 1 Axes>"
      ]
     },
     "metadata": {
      "needs_background": "light"
     },
     "output_type": "display_data"
    }
   ],
   "source": [
    "fig, ax = plt.subplots()\n",
    "ax.plot(aa1x, aa1y, 'o')\n",
    "ax.plot(aa2x, aa2y, '.')\n",
    "ax.plot(aa3x, aa3y, 'v')\n",
    "ax.plot(aa4x, aa4y, '^')\n",
    "ax.plot(center[0], center[1], 's')\n",
    "plt.show()"
   ]
  },
  {
   "cell_type": "code",
   "execution_count": null,
   "metadata": {},
   "outputs": [],
   "source": []
  }
 ],
 "metadata": {
  "kernelspec": {
   "display_name": "Python 3",
   "language": "python",
   "name": "python3"
  },
  "language_info": {
   "codemirror_mode": {
    "name": "ipython",
    "version": 3
   },
   "file_extension": ".py",
   "mimetype": "text/x-python",
   "name": "python",
   "nbconvert_exporter": "python",
   "pygments_lexer": "ipython3",
   "version": "3.7.4"
  }
 },
 "nbformat": 4,
 "nbformat_minor": 2
}
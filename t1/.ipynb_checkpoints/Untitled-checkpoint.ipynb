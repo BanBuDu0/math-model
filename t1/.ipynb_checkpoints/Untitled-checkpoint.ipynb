{
 "cells": [
  {
   "cell_type": "code",
   "execution_count": 1,
   "metadata": {},
   "outputs": [],
   "source": [
    "import pandas as pd\n",
    "import matplotlib.pyplot as plt\n",
    "import numpy as np\n",
    "import math\n",
    "%matplotlib inline"
   ]
  },
  {
   "cell_type": "code",
   "execution_count": 2,
   "metadata": {},
   "outputs": [],
   "source": [
    "path = \"./B题附件1.xlsx\"\n",
    "data = pd.read_excel(path, sheet_name=0)"
   ]
  },
  {
   "cell_type": "code",
   "execution_count": 3,
   "metadata": {},
   "outputs": [
    {
     "data": {
      "text/html": [
       "<div>\n",
       "<style scoped>\n",
       "    .dataframe tbody tr th:only-of-type {\n",
       "        vertical-align: middle;\n",
       "    }\n",
       "\n",
       "    .dataframe tbody tr th {\n",
       "        vertical-align: top;\n",
       "    }\n",
       "\n",
       "    .dataframe thead th {\n",
       "        text-align: right;\n",
       "    }\n",
       "</style>\n",
       "<table border=\"1\" class=\"dataframe\">\n",
       "  <thead>\n",
       "    <tr style=\"text-align: right;\">\n",
       "      <th></th>\n",
       "      <th>节点</th>\n",
       "      <th>传感器经度</th>\n",
       "      <th>传感器纬度</th>\n",
       "    </tr>\n",
       "  </thead>\n",
       "  <tbody>\n",
       "    <tr>\n",
       "      <th>0</th>\n",
       "      <td>数据中心</td>\n",
       "      <td>120.701520</td>\n",
       "      <td>36.374227</td>\n",
       "    </tr>\n",
       "    <tr>\n",
       "      <th>1</th>\n",
       "      <td>传感器1</td>\n",
       "      <td>120.698717</td>\n",
       "      <td>36.374576</td>\n",
       "    </tr>\n",
       "    <tr>\n",
       "      <th>2</th>\n",
       "      <td>传感器2</td>\n",
       "      <td>120.699795</td>\n",
       "      <td>36.375912</td>\n",
       "    </tr>\n",
       "    <tr>\n",
       "      <th>3</th>\n",
       "      <td>传感器3</td>\n",
       "      <td>120.706910</td>\n",
       "      <td>36.375796</td>\n",
       "    </tr>\n",
       "    <tr>\n",
       "      <th>4</th>\n",
       "      <td>传感器4</td>\n",
       "      <td>120.705616</td>\n",
       "      <td>36.372483</td>\n",
       "    </tr>\n",
       "  </tbody>\n",
       "</table>\n",
       "</div>"
      ],
      "text/plain": [
       "     节点       传感器经度      传感器纬度\n",
       "0  数据中心  120.701520  36.374227\n",
       "1  传感器1  120.698717  36.374576\n",
       "2  传感器2  120.699795  36.375912\n",
       "3  传感器3  120.706910  36.375796\n",
       "4  传感器4  120.705616  36.372483"
      ]
     },
     "execution_count": 3,
     "metadata": {},
     "output_type": "execute_result"
    }
   ],
   "source": [
    "data.head()"
   ]
  },
  {
   "cell_type": "code",
   "execution_count": 4,
   "metadata": {},
   "outputs": [],
   "source": [
    "node_num = data.shape[0]"
   ]
  },
  {
   "cell_type": "code",
   "execution_count": 17,
   "metadata": {},
   "outputs": [],
   "source": [
    "x = data['传感器经度']\n",
    "y = data['传感器纬度']\n",
    "x0 = x[0]\n",
    "y0 = y[0]\n",
    "x1 = x[1:]\n",
    "y1 = y[1:]\n",
    "# xs = 120.701520\n",
    "# xl = 120.72\n",
    "xs = np.linspace(120.68, 120.72, 50)\n",
    "# y2 = [36.374227]* 50\n",
    "y2 = 0 * xs + 36.374227 - 120.701520 * k1"
   ]
  },
  {
   "cell_type": "code",
   "execution_count": 18,
   "metadata": {},
   "outputs": [
    {
     "data": {
      "image/png": "[encoded data removed]",
      "text/plain": [
       "<Figure size 432x288 with 1 Axes>"
      ]
     },
     "metadata": {
      "needs_background": "light"
     },
     "output_type": "display_data"
    }
   ],
   "source": [
    "plt.scatter(x1, y1, marker='o')\n",
    "plt.scatter(x0, y0, marker='^', label=\"start point\")\n",
    "plt.plot(xs, y2, color='red', linewidth=1.0, linestyle='--')\n",
    "plt.legend(loc='best')\n",
    "plt.show()"
   ]
  },
  {
   "cell_type": "code",
   "execution_count": 21,
   "metadata": {},
   "outputs": [],
   "source": [
    "path = \"./B题附件1.xlsx\"\n",
    "df = pd.read_excel(path, sheet_name=0)\n",
    "v = df.iloc[:, 1:3]\n",
    "train_v = np.array(v)"
   ]
  },
  {
   "cell_type": "code",
   "execution_count": 24,
   "metadata": {},
   "outputs": [
    {
     "data": {
      "text/plain": [
       "array(['数据中心', '传感器1', '传感器2', '传感器3', '传感器4', '传感器5', '传感器6', '传感器7',\n",
       "       '传感器8', '传感器9', '传感器10', '传感器11', '传感器12', '传感器13', '传感器14',\n",
       "       '传感器15', '传感器16', '传感器17', '传感器18', '传感器19', '传感器20', '传感器21',\n",
       "       '传感器22', '传感器23', '传感器24', '传感器25', '传感器26', '传感器27', '传感器28',\n",
       "       '传感器29'], dtype=object)"
      ]
     },
     "execution_count": 24,
     "metadata": {},
     "output_type": "execute_result"
    }
   ],
   "source": [
    "np.array(df.iloc[:, 0])"
   ]
  },
  {
   "cell_type": "code",
   "execution_count": 172,
   "metadata": {},
   "outputs": [],
   "source": [
    "path = \"./B题附件2.xlsx\"\n",
    "df = pd.read_excel(path, sheet_name=0)"
   ]
  },
  {
   "cell_type": "code",
   "execution_count": 200,
   "metadata": {},
   "outputs": [
    {
     "data": {
      "text/plain": [
       "dtype('float64')"
      ]
     },
     "execution_count": 200,
     "metadata": {},
     "output_type": "execute_result"
    }
   ],
   "source": [
    "p = np.array(df.iloc[:, 3])\n",
    "p[0] = 0\n",
    "a = p.astype(np.float64)\n",
    "a.dtype"
   ]
  },
  {
   "cell_type": "code",
   "execution_count": 176,
   "metadata": {},
   "outputs": [],
   "source": [
    "v = np.array(df.iloc[:, 1:4])"
   ]
  },
  {
   "cell_type": "code",
   "execution_count": 184,
   "metadata": {},
   "outputs": [
    {
     "data": {
      "text/plain": [
       "array([120.70152019,  36.37422699])"
      ]
     },
     "execution_count": 184,
     "metadata": {},
     "output_type": "execute_result"
    }
   ],
   "source": [
    "center = v[0][:2].astype(np.float64)\n",
    "center"
   ]
  },
  {
   "cell_type": "code",
   "execution_count": 192,
   "metadata": {},
   "outputs": [
    {
     "data": {
      "text/plain": [
       "array([[120.69871747472, 36.3745756929757, 5.4],\n",
       "       [120.699795441332, 36.3759123905177, 7.8]], dtype=object)"
      ]
     },
     "execution_count": 192,
     "metadata": {},
     "output_type": "execute_result"
    }
   ],
   "source": [
    "node = v[1:]\n",
    "node[:][0:2]"
   ]
  },
  {
   "cell_type": "code",
   "execution_count": null,
   "metadata": {},
   "outputs": [],
   "source": [
    "road = [0, 21, 23, 24, 28, 22, 3, 4, 5, 13, 10, 16, 27, 12, 8, 15, 9, 7, 11, 6, 14, 25, 18, 26, 19, 20, 1, 2, 17, 29]"
   ]
  },
  {
   "cell_type": "code",
   "execution_count": null,
   "metadata": {},
   "outputs": [],
   "source": [
    "def get_distance(x1, y1, x2, y2):\n",
    "    # x,y分别表示一个经纬度坐标点\n",
    "    if x1 == x2 and y1 == y2:\n",
    "        return 0\n",
    "    R = 6371\n",
    "    theta = math.acos(math.sin(x1) * math.sin(x2) + (math.cos(x1) * math.cos(x2) * math.cos(y1 - y2)))\n",
    "    L = theta * R\n",
    "    return L"
   ]
  },
  {
   "cell_type": "code",
   "execution_count": 7,
   "metadata": {},
   "outputs": [
    {
     "data": {
      "text/plain": [
       "2"
      ]
     },
     "execution_count": 7,
     "metadata": {},
     "output_type": "execute_result"
    }
   ],
   "source": [
    "l = [2, 3]\n",
    "l[0]"
   ]
  }
 ],
 "metadata": {
  "kernelspec": {
   "display_name": "Python 3",
   "language": "python",
   "name": "python3"
  },
  "language_info": {
   "codemirror_mode": {
    "name": "ipython",
    "version": 3
   },
   "file_extension": ".py",
   "mimetype": "text/x-python",
   "name": "python",
   "nbconvert_exporter": "python",
   "pygments_lexer": "ipython3",
   "version": "3.7.6"
  }
 },
 "nbformat": 4,
 "nbformat_minor": 2
}

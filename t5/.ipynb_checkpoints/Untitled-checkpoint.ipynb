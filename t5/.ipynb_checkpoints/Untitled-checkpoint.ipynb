{
 "cells": [
  {
   "cell_type": "code",
   "execution_count": 1,
   "metadata": {},
   "outputs": [],
   "source": [
    "import pandas as pd\n",
    "import numpy as np\n",
    "import matplotlib.pyplot as plt\n",
    "import matplotlib.ticker as mticker\n",
    "plt.rcParams['font.sans-serif'] = ['SimHei'] "
   ]
  },
  {
   "cell_type": "code",
   "execution_count": 2,
   "metadata": {},
   "outputs": [],
   "source": [
    "df = pd.read_csv('./data_format/user_log.csv')"
   ]
  },
  {
   "cell_type": "code",
   "execution_count": 4,
   "metadata": {},
   "outputs": [],
   "source": [
    "df_11 = df[df['month'] == 11]"
   ]
  },
  {
   "cell_type": "code",
   "execution_count": 5,
   "metadata": {},
   "outputs": [
    {
     "data": {
      "text/html": [
       "<div>\n",
       "<style scoped>\n",
       "    .dataframe tbody tr th:only-of-type {\n",
       "        vertical-align: middle;\n",
       "    }\n",
       "\n",
       "    .dataframe tbody tr th {\n",
       "        vertical-align: top;\n",
       "    }\n",
       "\n",
       "    .dataframe thead th {\n",
       "        text-align: right;\n",
       "    }\n",
       "</style>\n",
       "<table border=\"1\" class=\"dataframe\">\n",
       "  <thead>\n",
       "    <tr style=\"text-align: right;\">\n",
       "      <th></th>\n",
       "      <th>user_id</th>\n",
       "      <th>item_id</th>\n",
       "      <th>cat_id</th>\n",
       "      <th>merchant_id</th>\n",
       "      <th>brand_id</th>\n",
       "      <th>month</th>\n",
       "      <th>day</th>\n",
       "      <th>action</th>\n",
       "      <th>age_range</th>\n",
       "      <th>gender</th>\n",
       "      <th>province</th>\n",
       "    </tr>\n",
       "  </thead>\n",
       "  <tbody>\n",
       "    <tr>\n",
       "      <td>126</td>\n",
       "      <td>328862</td>\n",
       "      <td>842597</td>\n",
       "      <td>1553</td>\n",
       "      <td>1138</td>\n",
       "      <td>4104.0</td>\n",
       "      <td>11</td>\n",
       "      <td>2</td>\n",
       "      <td>0</td>\n",
       "      <td>6</td>\n",
       "      <td>1</td>\n",
       "      <td>江苏</td>\n",
       "    </tr>\n",
       "    <tr>\n",
       "      <td>127</td>\n",
       "      <td>328862</td>\n",
       "      <td>217103</td>\n",
       "      <td>389</td>\n",
       "      <td>1138</td>\n",
       "      <td>4104.0</td>\n",
       "      <td>11</td>\n",
       "      <td>2</td>\n",
       "      <td>0</td>\n",
       "      <td>6</td>\n",
       "      <td>2</td>\n",
       "      <td>天津市</td>\n",
       "    </tr>\n",
       "    <tr>\n",
       "      <td>128</td>\n",
       "      <td>328862</td>\n",
       "      <td>431009</td>\n",
       "      <td>1577</td>\n",
       "      <td>3828</td>\n",
       "      <td>1446.0</td>\n",
       "      <td>11</td>\n",
       "      <td>2</td>\n",
       "      <td>0</td>\n",
       "      <td>1</td>\n",
       "      <td>0</td>\n",
       "      <td>四川</td>\n",
       "    </tr>\n",
       "    <tr>\n",
       "      <td>129</td>\n",
       "      <td>328862</td>\n",
       "      <td>161758</td>\n",
       "      <td>748</td>\n",
       "      <td>1138</td>\n",
       "      <td>4104.0</td>\n",
       "      <td>11</td>\n",
       "      <td>2</td>\n",
       "      <td>0</td>\n",
       "      <td>4</td>\n",
       "      <td>1</td>\n",
       "      <td>江西</td>\n",
       "    </tr>\n",
       "    <tr>\n",
       "      <td>130</td>\n",
       "      <td>328862</td>\n",
       "      <td>258882</td>\n",
       "      <td>1142</td>\n",
       "      <td>1138</td>\n",
       "      <td>4104.0</td>\n",
       "      <td>11</td>\n",
       "      <td>2</td>\n",
       "      <td>0</td>\n",
       "      <td>1</td>\n",
       "      <td>0</td>\n",
       "      <td>黑龙江</td>\n",
       "    </tr>\n",
       "  </tbody>\n",
       "</table>\n",
       "</div>"
      ],
      "text/plain": [
       "     user_id  item_id  cat_id  merchant_id  brand_id  month  day  action  \\\n",
       "126   328862   842597    1553         1138    4104.0     11    2       0   \n",
       "127   328862   217103     389         1138    4104.0     11    2       0   \n",
       "128   328862   431009    1577         3828    1446.0     11    2       0   \n",
       "129   328862   161758     748         1138    4104.0     11    2       0   \n",
       "130   328862   258882    1142         1138    4104.0     11    2       0   \n",
       "\n",
       "     age_range  gender province  \n",
       "126          6       1       江苏  \n",
       "127          6       2      天津市  \n",
       "128          1       0       四川  \n",
       "129          4       1       江西  \n",
       "130          1       0      黑龙江  "
      ]
     },
     "execution_count": 5,
     "metadata": {},
     "output_type": "execute_result"
    }
   ],
   "source": [
    "df_11.head()"
   ]
  },
  {
   "cell_type": "code",
   "execution_count": 34,
   "metadata": {},
   "outputs": [],
   "source": [
    "x = ['','二折', ' ', '四折', '  ', '六折', '   ', '八折', '    ', '原价', '     ', '1.2倍', '      ', '1.4倍', '       ', '1.6倍', '        ', '1.8倍', '         ', '二倍+']\n",
    "y = [100,400,1500,1800,4495,3000,2500,4000,6328, 22627.4, 2056, 1024, 459,256,400,256,120,120,20,459]\n",
    "for i in range(len(y)):\n",
    "    y[i] *= 5.47"
   ]
  },
  {
   "cell_type": "code",
   "execution_count": 31,
   "metadata": {},
   "outputs": [
    {
     "data": {
      "text/plain": [
       "<BarContainer object of 20 artists>"
      ]
     },
     "execution_count": 31,
     "metadata": {},
     "output_type": "execute_result"
    },
    {
     "data": {
      "image/png": "[encoded data removed]",
      "text/plain": [
       "<Figure size 432x288 with 1 Axes>"
      ]
     },
     "metadata": {
      "needs_background": "light"
     },
     "output_type": "display_data"
    }
   ],
   "source": [
    "\n",
    "plt.bar(x, y)"
   ]
  },
  {
   "cell_type": "code",
   "execution_count": 35,
   "metadata": {},
   "outputs": [],
   "source": [
    "x = ['≤1', '(1,10)','[10,10)','[20,30)','[30,40)','[40,50)','[50, +∞)']\n",
    "y = [158052, 89499, 4918, 1767, 756, 477, 823]\n",
    "for i in range(len(y)):\n",
    "    y[i] *= 5.47"
   ]
  },
  {
   "cell_type": "code",
   "execution_count": 36,
   "metadata": {},
   "outputs": [
    {
     "data": {
      "text/plain": [
       "<BarContainer object of 7 artists>"
      ]
     },
     "execution_count": 36,
     "metadata": {},
     "output_type": "execute_result"
    },
    {
     "data": {
      "image/png": "[encoded data removed]",
      "text/plain": [
       "<Figure size 432x288 with 1 Axes>"
      ]
     },
     "metadata": {
      "needs_background": "light"
     },
     "output_type": "display_data"
    }
   ],
   "source": [
    "plt.bar(x, y)"
   ]
  },
  {
   "cell_type": "code",
   "execution_count": 21,
   "metadata": {},
   "outputs": [],
   "source": [
    "x = np.array([2008, 2009, 2010, 2011, 2012, 2013, 2014, 2015, 2016, 2017, 2018, 2019]).reshape(-1, 1)\n",
    "y1 = np.array([0, 0.5, 9.36,52,191,350,571,912,1207,1682,2135,2684]).reshape(-1, 1)\n",
    "y2 = np.array([0, 0, 0.1, 0.22, 0.78,1.8,5.86,7.8,10.5,13.8,18.82,22.5]).reshape(-1, 1)"
   ]
  },
  {
   "cell_type": "code",
   "execution_count": 3,
   "metadata": {},
   "outputs": [],
   "source": [
    "y6 = [3.14, 3.7, 4.5,5.88,7.85,10.2,13.4,18.3,22.97,29.16,31.63,34.81]"
   ]
  },
  {
   "cell_type": "code",
   "execution_count": 5,
   "metadata": {},
   "outputs": [],
   "source": [
    "x = np.array([2008, 2009, 2010, 2011, 2012, 2013, 2014, 2015, 2016, 2017, 2018, 2019])\n",
    "y1 = np.array([0, 0.5, 9.36,52,191,350,571,912,1207,1682,2135,2684])\n",
    "y2 = np.array([0, 0, 0.1, 0.22, 0.78,1.8,5.86,7.8,10.5,13.8,18.82,22.5])\n",
    "y3 = np.array([0,0,0,0,0,0,870,3530,8945,12500,13700,17000])\n",
    "y4 = np.array([0,0,0,0,14.3974, 23.9052, 34.3974, 48.9052, 56.5381, 61.2543, 67.5426, 0])\n",
    "y5 = np.array([0,0,0,0,68.4,89.6,104.5,136.7,165.6,212.4,276.4,0])"
   ]
  },
  {
   "cell_type": "code",
   "execution_count": 19,
   "metadata": {},
   "outputs": [],
   "source": [
    "y3 = np.array([0,0,0,0,0,0,870,3530,8945,12500,13700,17000]).reshape(-1, 1)\n",
    "y4 = np.array([0,0,0,0,14.3974, 23.9052, 34.3974, 48.9052, 56.5381, 61.2543, 67.5426, 0]).reshape(-1, 1)\n",
    "y5 = np.array([0,0,0,0,68.4,89.6,104.5,136.7,165.6,212.4,276.4,0]).reshape(-1, 1)\n",
    "y6 = np.array([3.14, 3.7, 4.5,5.88,7.85,10.2,13.4,18.3,22.97,29.16,31.63,34.81]).reshape(-1,1)"
   ]
  },
  {
   "cell_type": "code",
   "execution_count": 22,
   "metadata": {},
   "outputs": [],
   "source": [
    "def normalization(data):\n",
    "    _range = np.max(data) - np.min(data)\n",
    "    return (data - np.min(data)) / _range"
   ]
  },
  {
   "cell_type": "code",
   "execution_count": 23,
   "metadata": {},
   "outputs": [],
   "source": [
    "x = normalization(x)\n",
    "y1 = normalization(y1)\n",
    "y2 = normalization(y2)\n",
    "y3 = normalization(y3)\n",
    "y4 = normalization(y4)\n",
    "y5 = normalization(y5)\n",
    "y6 = normalization(y6)"
   ]
  },
  {
   "cell_type": "code",
   "execution_count": 24,
   "metadata": {},
   "outputs": [
    {
     "data": {
      "text/plain": [
       "array([[0.        ],\n",
       "       [0.01768235],\n",
       "       [0.04294285],\n",
       "       [0.08651721],\n",
       "       [0.14872119],\n",
       "       [0.2229239 ],\n",
       "       [0.3239659 ],\n",
       "       [0.47868645],\n",
       "       [0.62614462],\n",
       "       [0.82159773],\n",
       "       [0.89958952],\n",
       "       [1.        ]])"
      ]
     },
     "execution_count": 24,
     "metadata": {},
     "output_type": "execute_result"
    }
   ],
   "source": [
    "y6"
   ]
  },
  {
   "cell_type": "code",
   "execution_count": 12,
   "metadata": {},
   "outputs": [],
   "source": [
    "p = np.hstack((x, y1, y2, y3, y4, y5))"
   ]
  },
  {
   "cell_type": "code",
   "execution_count": 26,
   "metadata": {},
   "outputs": [],
   "source": [
    "p = np.hstack((x, y1, y6))"
   ]
  },
  {
   "cell_type": "code",
   "execution_count": 27,
   "metadata": {},
   "outputs": [
    {
     "data": {
      "text/plain": [
       "(12, 3)"
      ]
     },
     "execution_count": 27,
     "metadata": {},
     "output_type": "execute_result"
    }
   ],
   "source": [
    "p.shape"
   ]
  },
  {
   "cell_type": "code",
   "execution_count": 28,
   "metadata": {},
   "outputs": [],
   "source": [
    "df = pd.DataFrame(p)\n",
    "dd = df.set_index(0)"
   ]
  },
  {
   "cell_type": "code",
   "execution_count": 32,
   "metadata": {},
   "outputs": [],
   "source": [
    "dd.columns = ['双十一成交额', '电商年度总销售额']"
   ]
  },
  {
   "cell_type": "code",
   "execution_count": 29,
   "metadata": {},
   "outputs": [
    {
     "ename": "ValueError",
     "evalue": "Length mismatch: Expected axis has 2 elements, new values have 5 elements",
     "output_type": "error",
     "traceback": [
      "\u001b[1;31m---------------------------------------------------------------------------\u001b[0m",
      "\u001b[1;31mValueError\u001b[0m                                Traceback (most recent call last)",
      "\u001b[1;32m<ipython-input-29-58786e108471>\u001b[0m in \u001b[0;36m<module>\u001b[1;34m\u001b[0m\n\u001b[1;32m----> 1\u001b[1;33m \u001b[0mdd\u001b[0m\u001b[1;33m.\u001b[0m\u001b[0mcolumns\u001b[0m \u001b[1;33m=\u001b[0m \u001b[1;33m[\u001b[0m\u001b[1;34m'双十一期间成交额'\u001b[0m\u001b[1;33m,\u001b[0m \u001b[1;34m'双十一期间快递总量'\u001b[0m\u001b[1;33m,\u001b[0m \u001b[1;34m'农村电商销售额'\u001b[0m\u001b[1;33m,\u001b[0m \u001b[1;34m'跨境电商企业数量'\u001b[0m\u001b[1;33m,\u001b[0m \u001b[1;34m'跨境电商人员数量'\u001b[0m\u001b[1;33m]\u001b[0m\u001b[1;33m\u001b[0m\u001b[1;33m\u001b[0m\u001b[0m\n\u001b[0m",
      "\u001b[1;32mD:\\Anaconda3\\lib\\site-packages\\pandas\\core\\generic.py\u001b[0m in \u001b[0;36m__setattr__\u001b[1;34m(self, name, value)\u001b[0m\n\u001b[0;32m   5190\u001b[0m         \u001b[1;32mtry\u001b[0m\u001b[1;33m:\u001b[0m\u001b[1;33m\u001b[0m\u001b[1;33m\u001b[0m\u001b[0m\n\u001b[0;32m   5191\u001b[0m             \u001b[0mobject\u001b[0m\u001b[1;33m.\u001b[0m\u001b[0m__getattribute__\u001b[0m\u001b[1;33m(\u001b[0m\u001b[0mself\u001b[0m\u001b[1;33m,\u001b[0m \u001b[0mname\u001b[0m\u001b[1;33m)\u001b[0m\u001b[1;33m\u001b[0m\u001b[1;33m\u001b[0m\u001b[0m\n\u001b[1;32m-> 5192\u001b[1;33m             \u001b[1;32mreturn\u001b[0m \u001b[0mobject\u001b[0m\u001b[1;33m.\u001b[0m\u001b[0m__setattr__\u001b[0m\u001b[1;33m(\u001b[0m\u001b[0mself\u001b[0m\u001b[1;33m,\u001b[0m \u001b[0mname\u001b[0m\u001b[1;33m,\u001b[0m \u001b[0mvalue\u001b[0m\u001b[1;33m)\u001b[0m\u001b[1;33m\u001b[0m\u001b[1;33m\u001b[0m\u001b[0m\n\u001b[0m\u001b[0;32m   5193\u001b[0m         \u001b[1;32mexcept\u001b[0m \u001b[0mAttributeError\u001b[0m\u001b[1;33m:\u001b[0m\u001b[1;33m\u001b[0m\u001b[1;33m\u001b[0m\u001b[0m\n\u001b[0;32m   5194\u001b[0m             \u001b[1;32mpass\u001b[0m\u001b[1;33m\u001b[0m\u001b[1;33m\u001b[0m\u001b[0m\n",
      "\u001b[1;32mpandas\\_libs\\properties.pyx\u001b[0m in \u001b[0;36mpandas._libs.properties.AxisProperty.__set__\u001b[1;34m()\u001b[0m\n",
      "\u001b[1;32mD:\\Anaconda3\\lib\\site-packages\\pandas\\core\\generic.py\u001b[0m in \u001b[0;36m_set_axis\u001b[1;34m(self, axis, labels)\u001b[0m\n\u001b[0;32m    688\u001b[0m \u001b[1;33m\u001b[0m\u001b[0m\n\u001b[0;32m    689\u001b[0m     \u001b[1;32mdef\u001b[0m \u001b[0m_set_axis\u001b[0m\u001b[1;33m(\u001b[0m\u001b[0mself\u001b[0m\u001b[1;33m,\u001b[0m \u001b[0maxis\u001b[0m\u001b[1;33m,\u001b[0m \u001b[0mlabels\u001b[0m\u001b[1;33m)\u001b[0m\u001b[1;33m:\u001b[0m\u001b[1;33m\u001b[0m\u001b[1;33m\u001b[0m\u001b[0m\n\u001b[1;32m--> 690\u001b[1;33m         \u001b[0mself\u001b[0m\u001b[1;33m.\u001b[0m\u001b[0m_data\u001b[0m\u001b[1;33m.\u001b[0m\u001b[0mset_axis\u001b[0m\u001b[1;33m(\u001b[0m\u001b[0maxis\u001b[0m\u001b[1;33m,\u001b[0m \u001b[0mlabels\u001b[0m\u001b[1;33m)\u001b[0m\u001b[1;33m\u001b[0m\u001b[1;33m\u001b[0m\u001b[0m\n\u001b[0m\u001b[0;32m    691\u001b[0m         \u001b[0mself\u001b[0m\u001b[1;33m.\u001b[0m\u001b[0m_clear_item_cache\u001b[0m\u001b[1;33m(\u001b[0m\u001b[1;33m)\u001b[0m\u001b[1;33m\u001b[0m\u001b[1;33m\u001b[0m\u001b[0m\n\u001b[0;32m    692\u001b[0m \u001b[1;33m\u001b[0m\u001b[0m\n",
      "\u001b[1;32mD:\\Anaconda3\\lib\\site-packages\\pandas\\core\\internals\\managers.py\u001b[0m in \u001b[0;36mset_axis\u001b[1;34m(self, axis, new_labels)\u001b[0m\n\u001b[0;32m    181\u001b[0m             raise ValueError(\n\u001b[0;32m    182\u001b[0m                 \u001b[1;34m\"Length mismatch: Expected axis has {old} elements, new \"\u001b[0m\u001b[1;33m\u001b[0m\u001b[1;33m\u001b[0m\u001b[0m\n\u001b[1;32m--> 183\u001b[1;33m                 \u001b[1;34m\"values have {new} elements\"\u001b[0m\u001b[1;33m.\u001b[0m\u001b[0mformat\u001b[0m\u001b[1;33m(\u001b[0m\u001b[0mold\u001b[0m\u001b[1;33m=\u001b[0m\u001b[0mold_len\u001b[0m\u001b[1;33m,\u001b[0m \u001b[0mnew\u001b[0m\u001b[1;33m=\u001b[0m\u001b[0mnew_len\u001b[0m\u001b[1;33m)\u001b[0m\u001b[1;33m\u001b[0m\u001b[1;33m\u001b[0m\u001b[0m\n\u001b[0m\u001b[0;32m    184\u001b[0m             )\n\u001b[0;32m    185\u001b[0m \u001b[1;33m\u001b[0m\u001b[0m\n",
      "\u001b[1;31mValueError\u001b[0m: Length mismatch: Expected axis has 2 elements, new values have 5 elements"
     ]
    }
   ],
   "source": [
    "dd.columns = ['双十一期间成交额', '双十一期间快递总量', '农村电商销售额', '跨境电商企业数量', '跨境电商人员数量']"
   ]
  },
  {
   "cell_type": "code",
   "execution_count": 33,
   "metadata": {},
   "outputs": [
    {
     "data": {
      "text/html": [
       "<div>\n",
       "<style scoped>\n",
       "    .dataframe tbody tr th:only-of-type {\n",
       "        vertical-align: middle;\n",
       "    }\n",
       "\n",
       "    .dataframe tbody tr th {\n",
       "        vertical-align: top;\n",
       "    }\n",
       "\n",
       "    .dataframe thead th {\n",
       "        text-align: right;\n",
       "    }\n",
       "</style>\n",
       "<table border=\"1\" class=\"dataframe\">\n",
       "  <thead>\n",
       "    <tr style=\"text-align: right;\">\n",
       "      <th></th>\n",
       "      <th>双十一成交额</th>\n",
       "      <th>电商年度总销售额</th>\n",
       "    </tr>\n",
       "  </thead>\n",
       "  <tbody>\n",
       "    <tr>\n",
       "      <td>双十一成交额</td>\n",
       "      <td>1.000000</td>\n",
       "      <td>0.985404</td>\n",
       "    </tr>\n",
       "    <tr>\n",
       "      <td>电商年度总销售额</td>\n",
       "      <td>0.985404</td>\n",
       "      <td>1.000000</td>\n",
       "    </tr>\n",
       "  </tbody>\n",
       "</table>\n",
       "</div>"
      ],
      "text/plain": [
       "            双十一成交额  电商年度总销售额\n",
       "双十一成交额    1.000000  0.985404\n",
       "电商年度总销售额  0.985404  1.000000"
      ]
     },
     "execution_count": 33,
     "metadata": {},
     "output_type": "execute_result"
    }
   ],
   "source": [
    "dd.corr()"
   ]
  },
  {
   "cell_type": "code",
   "execution_count": 72,
   "metadata": {},
   "outputs": [
    {
     "data": {
      "text/html": [
       "<div>\n",
       "<style scoped>\n",
       "    .dataframe tbody tr th:only-of-type {\n",
       "        vertical-align: middle;\n",
       "    }\n",
       "\n",
       "    .dataframe tbody tr th {\n",
       "        vertical-align: top;\n",
       "    }\n",
       "\n",
       "    .dataframe thead th {\n",
       "        text-align: right;\n",
       "    }\n",
       "</style>\n",
       "<table border=\"1\" class=\"dataframe\">\n",
       "  <thead>\n",
       "    <tr style=\"text-align: right;\">\n",
       "      <th></th>\n",
       "      <th>历年双十一期间成交额</th>\n",
       "      <th>历年双十一期间成交额</th>\n",
       "      <th>历年全国农村电商销售额</th>\n",
       "      <th>历年中国跨境电商企业数量</th>\n",
       "      <th>历年中国跨境电商人员数量</th>\n",
       "    </tr>\n",
       "  </thead>\n",
       "  <tbody>\n",
       "    <tr>\n",
       "      <td>历年双十一期间成交额</td>\n",
       "      <td>1.000000</td>\n",
       "      <td>0.958521</td>\n",
       "      <td>0.978950</td>\n",
       "      <td>0.511982</td>\n",
       "      <td>0.536445</td>\n",
       "    </tr>\n",
       "    <tr>\n",
       "      <td>历年双十一期间成交额</td>\n",
       "      <td>0.958521</td>\n",
       "      <td>1.000000</td>\n",
       "      <td>0.915284</td>\n",
       "      <td>0.422111</td>\n",
       "      <td>0.473284</td>\n",
       "    </tr>\n",
       "    <tr>\n",
       "      <td>历年全国农村电商销售额</td>\n",
       "      <td>0.978950</td>\n",
       "      <td>0.915284</td>\n",
       "      <td>1.000000</td>\n",
       "      <td>0.496511</td>\n",
       "      <td>0.524197</td>\n",
       "    </tr>\n",
       "    <tr>\n",
       "      <td>历年中国跨境电商企业数量</td>\n",
       "      <td>0.511982</td>\n",
       "      <td>0.422111</td>\n",
       "      <td>0.496511</td>\n",
       "      <td>1.000000</td>\n",
       "      <td>0.977604</td>\n",
       "    </tr>\n",
       "    <tr>\n",
       "      <td>历年中国跨境电商人员数量</td>\n",
       "      <td>0.536445</td>\n",
       "      <td>0.473284</td>\n",
       "      <td>0.524197</td>\n",
       "      <td>0.977604</td>\n",
       "      <td>1.000000</td>\n",
       "    </tr>\n",
       "  </tbody>\n",
       "</table>\n",
       "</div>"
      ],
      "text/plain": [
       "              历年双十一期间成交额  历年双十一期间成交额  历年全国农村电商销售额  历年中国跨境电商企业数量  历年中国跨境电商人员数量\n",
       "历年双十一期间成交额      1.000000    0.958521     0.978950      0.511982      0.536445\n",
       "历年双十一期间成交额      0.958521    1.000000     0.915284      0.422111      0.473284\n",
       "历年全国农村电商销售额     0.978950    0.915284     1.000000      0.496511      0.524197\n",
       "历年中国跨境电商企业数量    0.511982    0.422111     0.496511      1.000000      0.977604\n",
       "历年中国跨境电商人员数量    0.536445    0.473284     0.524197      0.977604      1.000000"
      ]
     },
     "execution_count": 72,
     "metadata": {},
     "output_type": "execute_result"
    }
   ],
   "source": [
    "dd.corr()"
   ]
  },
  {
   "cell_type": "code",
   "execution_count": 7,
   "metadata": {},
   "outputs": [
    {
     "data": {
      "image/png": "[encoded data removed]",
      "text/plain": [
       "<Figure size 432x288 with 1 Axes>"
      ]
     },
     "metadata": {
      "needs_background": "light"
     },
     "output_type": "display_data"
    }
   ],
   "source": [
    "plt.bar(x, y6)\n",
    "plt.title(\"2008-2019年中国电子商务交易额统计情况\")\n",
    "# plt.xlabel('年 ')   #添加x轴的标签描述\n",
    "# plt.ylabel('亿元')\n",
    "plt.gca().yaxis.set_major_formatter(mticker.FormatStrFormatter('%.0f 万亿元'))"
   ]
  },
  {
   "cell_type": "code",
   "execution_count": 7,
   "metadata": {},
   "outputs": [
    {
     "data": {
      "image/png": "[encoded data removed]",
      "text/plain": [
       "<Figure size 432x288 with 1 Axes>"
      ]
     },
     "metadata": {
      "needs_background": "light"
     },
     "output_type": "display_data"
    }
   ],
   "source": [
    "plt.bar(x, y2)\n",
    "plt.title(\"历年双十一期间快递总量\")\n",
    "# plt.xlabel('年 ')   #添加x轴的标签描述\n",
    "# plt.ylabel('亿元')\n",
    "plt.gca().yaxis.set_major_formatter(mticker.FormatStrFormatter('%.0f 亿件'))"
   ]
  },
  {
   "cell_type": "code",
   "execution_count": 24,
   "metadata": {},
   "outputs": [
    {
     "data": {
      "image/png": "[encoded data removed]",
      "text/plain": [
       "<Figure size 432x288 with 1 Axes>"
      ]
     },
     "metadata": {
      "needs_background": "light"
     },
     "output_type": "display_data"
    }
   ],
   "source": [
    "plt.bar(x, y3)\n",
    "plt.title(\"历年全国农村电商销售额\")\n",
    "# plt.xlabel('年 ')   #添加x轴的标签描述\n",
    "# plt.ylabel('亿元')\n",
    "plt.gca().yaxis.set_major_formatter(mticker.FormatStrFormatter('%.0f 亿元'))"
   ]
  },
  {
   "cell_type": "code",
   "execution_count": 35,
   "metadata": {},
   "outputs": [
    {
     "data": {
      "image/png": "[encoded data removed]",
      "text/plain": [
       "<Figure size 432x288 with 1 Axes>"
      ]
     },
     "metadata": {
      "needs_background": "light"
     },
     "output_type": "display_data"
    }
   ],
   "source": [
    "plt.bar(x, y5,label=\"历年中国跨境电商人员数量\", color='lightgreen')\n",
    "plt.bar(x, y4,label=\"历年中国跨境电商企业数量\",color='orange')\n",
    "\n",
    "plt.legend(loc=\"upper left\")  # 防止label和图像重合显示不出来\n",
    "plt.title(\"历年全国农村电商销售额\")\n",
    "# plt.xlabel('年 ')   #添加x轴的标签描述\n",
    "# plt.ylabel('亿元')\n",
    "plt.gca().yaxis.set_major_formatter(mticker.FormatStrFormatter('%.0f 万'))"
   ]
  },
  {
   "cell_type": "code",
   "execution_count": 2,
   "metadata": {},
   "outputs": [],
   "source": [
    "x = ['5级', '4级', '3级', '2级', '1级']\n",
    "y1 = [2, 1.5, 1, 0.5, 0.4]"
   ]
  },
  {
   "cell_type": "code",
   "execution_count": 6,
   "metadata": {},
   "outputs": [
    {
     "data": {
      "text/plain": [
       "[<matplotlib.lines.Line2D at 0x18c0083e888>]"
      ]
     },
     "execution_count": 6,
     "metadata": {},
     "output_type": "execute_result"
    },
    {
     "data": {
      "image/png": "[encoded data removed]",
      "text/plain": [
       "<Figure size 432x288 with 1 Axes>"
      ]
     },
     "metadata": {
      "needs_background": "light"
     },
     "output_type": "display_data"
    }
   ],
   "source": [
    "plt.plot(x, y1,'c*-',label='ax1', linewidth=2)\n",
    "plt.xlabel('')   #添加x轴的标签描述\n",
    "plt.ylabel('平均访问次数')"
   ]
  }
 ],
 "metadata": {
  "kernelspec": {
   "display_name": "Python 3",
   "language": "python",
   "name": "python3"
  },
  "language_info": {
   "codemirror_mode": {
    "name": "ipython",
    "version": 3
   },
   "file_extension": ".py",
   "mimetype": "text/x-python",
   "name": "python",
   "nbconvert_exporter": "python",
   "pygments_lexer": "ipython3",
   "version": "3.7.4"
  }
 },
 "nbformat": 4,
 "nbformat_minor": 2
}
